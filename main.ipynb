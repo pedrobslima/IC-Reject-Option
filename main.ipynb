{
 "cells": [
  {
   "cell_type": "code",
   "execution_count": null,
   "id": "8663436b",
   "metadata": {},
   "outputs": [
    {
     "name": "stderr",
     "output_type": "stream",
     "text": [
      "/home/pbsl/pog/IC - Reject Option/.venv/lib/python3.10/site-packages/tqdm/auto.py:21: TqdmWarning: IProgress not found. Please update jupyter and ipywidgets. See https://ipywidgets.readthedocs.io/en/stable/user_install.html\n",
      "  from .autonotebook import tqdm as notebook_tqdm\n"
     ]
    }
   ],
   "source": [
    "import pandas as pd\n",
    "import numpy as np\n",
    "import matplotlib.pyplot as plt\n",
    "import seaborn as sns\n",
    "from sklearn.datasets import make_moons\n",
    "import mlflow\n",
    "import mlflow.sklearn\n",
    "import optuna\n",
    "from random import randint\n",
    "import logging\n",
    "from sklearn.model_selection import train_test_split\n",
    "from sklearn.preprocessing import StandardScaler\n",
    "\n",
    "# Base Models (+ ST assessor)\n",
    "from sklearn.tree import DecisionTreeClassifier\n",
    "from sklearn.linear_model import SGDClassifier\n",
    "from sklearn.linear_model import LogisticRegression\n",
    "from sklearn.neighbors import KNeighborsClassifier\n",
    "from sklearn.svm import SVC#, SVR # kernels: 'linear', 'poly' e 'rbf'\n",
    "from sklearn.neural_network import MLPClassifier\n",
    "from kan import KANClassifier\n",
    "from sklearn.ensemble import RandomForestClassifier#, RandomForestRegressor\n",
    "from sklearn.ensemble import GradientBoostingClassifier\n",
    "from sklearn.ensemble import AdaBoostClassifier\n",
    "from xgboost import XGBClassifier\n",
    "\n",
    "from sklearn.metrics import auc, accuracy_score, precision_score, recall_score, f1_score, roc_auc_score\n",
    "from sklearn.model_selection import cross_val_score\n",
    "from sklearn.metrics import confusion_matrix, ConfusionMatrixDisplay"
   ]
  },
  {
   "cell_type": "code",
   "execution_count": 2,
   "id": "f3157bd4",
   "metadata": {},
   "outputs": [],
   "source": [
    "import json\n",
    "\n",
    "with open('config.json', 'r') as f:\n",
    "    CONFIG = json.load(f)"
   ]
  },
  {
   "cell_type": "code",
   "execution_count": null,
   "id": "854467e7",
   "metadata": {},
   "outputs": [],
   "source": [
    "def log_model_to_mlflow(model, model_name, hyperparams, X_train, y_train, X_test, y_test):\n",
    "    \"\"\"\n",
    "    Treina, avalia e registra um modelo no MLflow.\n",
    "    \n",
    "    Parameters:\n",
    "    -----------\n",
    "    model : estimator\n",
    "        Modelo do scikit-learn ou compatível\n",
    "    model_name : str\n",
    "        Nome do modelo para registro\n",
    "    hyperparams : dict\n",
    "        Dicionário com os hiperparâmetros do modelo\n",
    "    X_train, y_train : array-like\n",
    "        Dados de treino\n",
    "    X_test, y_test : array-like\n",
    "        Dados de teste\n",
    "    \"\"\"\n",
    "    with mlflow.start_run(run_name=model_name):\n",
    "        # Treinar modelo\n",
    "        model.fit(X_train, y_train)\n",
    "        \n",
    "        # Fazer predições\n",
    "        y_pred = model.predict(X_test)\n",
    "        \n",
    "        # Calcular probabilidades para AUROC (se disponível)\n",
    "        try:\n",
    "            if hasattr(model, 'predict_proba'):\n",
    "                y_proba = model.predict_proba(X_test)\n",
    "                # Para classificação binária\n",
    "                if y_proba.shape[1] == 2:\n",
    "                    auroc = roc_auc_score(y_test, y_proba[:, 1])\n",
    "                # Para classificação multiclasse\n",
    "                else:\n",
    "                    auroc = roc_auc_score(y_test, y_proba)\n",
    "            elif hasattr(model, 'decision_function'):\n",
    "                y_scores = model.decision_function(X_test)\n",
    "                if len(np.unique(y_test)) == 2:\n",
    "                    auroc = roc_auc_score(y_test, y_scores)\n",
    "                else:\n",
    "                    auroc = roc_auc_score(y_test, y_scores)\n",
    "            else:\n",
    "                auroc = None\n",
    "        except Exception as e:\n",
    "            print(f\"Aviso: Não foi possível calcular AUROC para {model_name}: {e}\")\n",
    "            auroc = None\n",
    "        \n",
    "        # Calcular métricas\n",
    "        accuracy = accuracy_score(y_test, y_pred)\n",
    "        precision = precision_score(y_test, y_pred, zero_division=0)\n",
    "        recall = recall_score(y_test, y_pred, zero_division=0)\n",
    "        f1 = f1_score(y_test, y_pred, zero_division=0)\n",
    "        \n",
    "        # Registrar hiperparâmetros\n",
    "        mlflow.log_params(hyperparams)\n",
    "        \n",
    "        # Registrar métricas\n",
    "        mlflow.log_metric(\"accuracy\", accuracy)\n",
    "        mlflow.log_metric(\"precision\", precision)\n",
    "        mlflow.log_metric(\"recall\", recall)\n",
    "        mlflow.log_metric(\"f1_score\", f1)\n",
    "        if auroc is not None:\n",
    "            mlflow.log_metric(\"auroc\", auroc)\n",
    "        \n",
    "        # Registrar modelo\n",
    "        mlflow.sklearn.log_model(model, \"model\")\n",
    "        \n",
    "        print(f\"\\n{'='*60}\")\n",
    "        print(f\"Modelo: {model_name}\")\n",
    "        print(f\"{'='*60}\")\n",
    "        print(f\"Acurácia:  {accuracy:.4f}\")\n",
    "        print(f\"Precisão:  {precision:.4f}\")\n",
    "        print(f\"Recall:    {recall:.4f}\")\n",
    "        print(f\"F1-Score:  {f1:.4f}\")\n",
    "        if auroc is not None:\n",
    "            print(f\"AUROC:     {auroc:.4f}\")\n",
    "        print(f\"{'='*60}\\n\")\n",
    "        \n",
    "        return model"
   ]
  },
  {
   "cell_type": "code",
   "execution_count": null,
   "id": "c79049b9",
   "metadata": {},
   "outputs": [],
   "source": [
    "def load_model_by_name(experiment_name, run_name):\n",
    "    \"\"\"\n",
    "    Carrega um modelo específico do MLflow pelo nome da run.\n",
    "    \n",
    "    Parameters:\n",
    "    -----------\n",
    "    experiment_name : str\n",
    "        Nome do experimento MLflow\n",
    "    run_name : str\n",
    "        Nome da run (ex: \"Random_Forest\", \"XGBoost\")\n",
    "    \n",
    "    Returns:\n",
    "    --------\n",
    "    model : estimator\n",
    "        Modelo carregado\n",
    "    run_info : dict\n",
    "        Informações da run (hiperparâmetros e métricas)\n",
    "    \"\"\"\n",
    "    # Buscar experimento\n",
    "    experiment = mlflow.get_experiment_by_name(experiment_name)\n",
    "    if experiment is None:\n",
    "        raise ValueError(f\"Experimento '{experiment_name}' não encontrado!\")\n",
    "    \n",
    "    # Buscar runs do experimento\n",
    "    runs = mlflow.search_runs(\n",
    "        experiment_ids=[experiment.experiment_id],\n",
    "        filter_string=f\"tags.mlflow.runName = '{run_name}'\"\n",
    "    )\n",
    "    \n",
    "    if runs.empty:\n",
    "        raise ValueError(f\"Run '{run_name}' não encontrada no experimento '{experiment_name}'!\")\n",
    "    \n",
    "    # Pegar a run mais recente se houver múltiplas\n",
    "    run = runs.iloc[0]\n",
    "    run_id = run.run_id\n",
    "    \n",
    "    # Carregar modelo\n",
    "    model_uri = f\"runs:/{run_id}/model\"\n",
    "    model = mlflow.sklearn.load_model(model_uri)\n",
    "    \n",
    "    # Extrair informações da run\n",
    "    run_info = {\n",
    "        'run_id': run_id,\n",
    "        'run_name': run_name,\n",
    "        'start_time': run.start_time,\n",
    "        'params': {k.replace('params.', ''): v for k, v in run.items() if k.startswith('params.')},\n",
    "        'metrics': {k.replace('metrics.', ''): v for k, v in run.items() if k.startswith('metrics.')}\n",
    "    }\n",
    "    \n",
    "    print(f\"✓ Modelo '{run_name}' carregado com sucesso!\")\n",
    "    print(f\"  Run ID: {run_id}\")\n",
    "    #print(f\"  Métricas: F1={run_info['metrics'].get('f1_score', 'N/A'):.4f}\")\n",
    "    \n",
    "    return model, run_info"
   ]
  },
  {
   "cell_type": "code",
   "execution_count": 5,
   "id": "2ce9eb02",
   "metadata": {},
   "outputs": [
    {
     "data": {
      "text/plain": [
       "<Experiment: artifact_location='file:///home/pbsl/pog/IC%20-%20Reject%20Option/mlruns/494908295467387025', creation_time=1759707535932, experiment_id='494908295467387025', last_update_time=1759707535932, lifecycle_stage='active', name='v0_1246495320', tags={}>"
      ]
     },
     "execution_count": 5,
     "metadata": {},
     "output_type": "execute_result"
    }
   ],
   "source": [
    "from train_models import experiment_name\n",
    "\n",
    "mlflow.set_experiment(experiment_name=experiment_name)"
   ]
  },
  {
   "cell_type": "markdown",
   "id": "0015c58c",
   "metadata": {},
   "source": [
    "- **Versões:**\n",
    "  - v0: Versão inicial. Sem assessores. Apenas cálculo de confiança para rejeição por meio da probabilidade de classe dos modelos."
   ]
  },
  {
   "cell_type": "code",
   "execution_count": 14,
   "id": "4d084b11",
   "metadata": {},
   "outputs": [
    {
     "data": {
      "image/png": "[encoded data removed]",
      "text/plain": [
       "<Figure size 640x480 with 1 Axes>"
      ]
     },
     "metadata": {},
     "output_type": "display_data"
    }
   ],
   "source": [
    "# generate 2d classification dataset\n",
    "X, y = make_moons(n_samples=CONFIG['TWO_MOONS']['N_SAMPLES'], \n",
    "                  noise=CONFIG['TWO_MOONS']['NOISE'], \n",
    "                  random_state=CONFIG['SEED'])\n",
    "df = pd.DataFrame(dict(x0=X[:,0], x1=X[:,1], label=y))\n",
    "\n",
    "# scatter plot, dots colored by class value\n",
    "colors = {0:'red', 1:'blue'}\n",
    "fig, ax = plt.subplots()\n",
    "grouped = df.groupby('label')\n",
    "for key, group in grouped:\n",
    "    group.plot(ax=ax, kind='scatter', x='x0', y='x1', label=key, color=colors[key])\n",
    "plt.show()"
   ]
  },
  {
   "cell_type": "code",
   "execution_count": 16,
   "id": "2c1617d3",
   "metadata": {},
   "outputs": [],
   "source": [
    "X_train, X_test, y_train, y_test = train_test_split(X, y, test_size=0.3, shuffle=True, random_state=CONFIG['SEED'])\n",
    "\n",
    "scaler = StandardScaler()\n",
    "\n",
    "X_train_norm = scaler.fit_transform(X_train)\n",
    "X_test_norm = scaler.transform(X_test)"
   ]
  },
  {
   "cell_type": "code",
   "execution_count": 3,
   "id": "27d53e5a",
   "metadata": {},
   "outputs": [
    {
     "name": "stdout",
     "output_type": "stream",
     "text": [
      "937a626718cd4a9f80529c1aa5a49a11\n"
     ]
    },
    {
     "name": "stderr",
     "output_type": "stream",
     "text": [
      "Downloading artifacts:   0%|          | 0/1 [00:00<?, ?it/s]\n",
      "Downloading artifacts: 100%|██████████| 5/5 [00:00<00:00, 1920.64it/s] \n"
     ]
    },
    {
     "name": "stdout",
     "output_type": "stream",
     "text": [
      "3977094c807a417b90e947f9bb3ef35f\n"
     ]
    },
    {
     "name": "stderr",
     "output_type": "stream",
     "text": [
      "Downloading artifacts:   0%|          | 0/1 [00:00<?, ?it/s]\n",
      "Downloading artifacts: 100%|██████████| 5/5 [00:00<00:00, 3656.12it/s] \n"
     ]
    },
    {
     "name": "stdout",
     "output_type": "stream",
     "text": [
      "81fbbd13b2304d2f87a9ce4813ff0e9f\n"
     ]
    },
    {
     "name": "stderr",
     "output_type": "stream",
     "text": [
      "Downloading artifacts:   0%|          | 0/1 [00:00<?, ?it/s]\n",
      "Downloading artifacts: 100%|██████████| 5/5 [00:00<00:00, 3380.32it/s] \n"
     ]
    },
    {
     "name": "stdout",
     "output_type": "stream",
     "text": [
      "330bc02845f148788f1447fc74f84843\n"
     ]
    },
    {
     "name": "stderr",
     "output_type": "stream",
     "text": [
      "Downloading artifacts:   0%|          | 0/1 [00:00<?, ?it/s]\n",
      "Downloading artifacts: 100%|██████████| 5/5 [00:00<00:00, 2844.75it/s] \n"
     ]
    },
    {
     "name": "stdout",
     "output_type": "stream",
     "text": [
      "081ad4a8935649918e70027ba965da1d\n"
     ]
    },
    {
     "name": "stderr",
     "output_type": "stream",
     "text": [
      "Downloading artifacts:   0%|          | 0/1 [00:00<?, ?it/s]\n",
      "Downloading artifacts: 100%|██████████| 5/5 [00:00<00:00, 2188.41it/s]\n"
     ]
    },
    {
     "name": "stdout",
     "output_type": "stream",
     "text": [
      "5b66802190ec435196842f88905f9ee7\n"
     ]
    },
    {
     "name": "stderr",
     "output_type": "stream",
     "text": [
      "Downloading artifacts:   0%|          | 0/1 [00:00<?, ?it/s]\n",
      "Downloading artifacts: 100%|██████████| 5/5 [00:00<00:00, 2006.46it/s] \n"
     ]
    },
    {
     "name": "stdout",
     "output_type": "stream",
     "text": [
      "4957b9df8f40411d8bfca7a2e72e056c\n"
     ]
    },
    {
     "name": "stderr",
     "output_type": "stream",
     "text": [
      "Downloading artifacts:   0%|          | 0/1 [00:00<?, ?it/s]\n",
      "Downloading artifacts: 100%|██████████| 5/5 [00:00<00:00, 2376.11it/s] "
     ]
    },
    {
     "name": "stdout",
     "output_type": "stream",
     "text": [
      "77203a99e6484c18a331f89c8dde817b\n"
     ]
    },
    {
     "name": "stderr",
     "output_type": "stream",
     "text": [
      "\n",
      "Downloading artifacts:   0%|          | 0/1 [00:00<?, ?it/s]\n",
      "Downloading artifacts: 100%|██████████| 5/5 [00:00<00:00, 2108.75it/s] \n"
     ]
    },
    {
     "name": "stdout",
     "output_type": "stream",
     "text": [
      "4e2c1460d7134cc090f47db3917c9b38\n"
     ]
    },
    {
     "name": "stderr",
     "output_type": "stream",
     "text": [
      "Downloading artifacts:   0%|          | 0/1 [00:00<?, ?it/s]\n",
      "Downloading artifacts: 100%|██████████| 5/5 [00:00<00:00, 782.08it/s]  \n"
     ]
    },
    {
     "name": "stdout",
     "output_type": "stream",
     "text": [
      "4581e75635e5404ca6cc79d0b1c8b10c\n"
     ]
    },
    {
     "name": "stderr",
     "output_type": "stream",
     "text": [
      "Downloading artifacts:   0%|          | 0/1 [00:00<?, ?it/s]\n",
      "Downloading artifacts: 100%|██████████| 5/5 [00:00<00:00, 2220.62it/s] \n"
     ]
    },
    {
     "name": "stdout",
     "output_type": "stream",
     "text": [
      "8634629504dd41bf9cdf22cfb76d9df7\n"
     ]
    },
    {
     "name": "stderr",
     "output_type": "stream",
     "text": [
      "Downloading artifacts:   0%|          | 0/1 [00:00<?, ?it/s]\n",
      "Downloading artifacts: 100%|██████████| 5/5 [00:00<00:00, 2243.42it/s]\n"
     ]
    },
    {
     "name": "stdout",
     "output_type": "stream",
     "text": [
      "f3150119303b475181e4f9964d95e692\n"
     ]
    },
    {
     "name": "stderr",
     "output_type": "stream",
     "text": [
      "Downloading artifacts:   0%|          | 0/1 [00:00<?, ?it/s]\n",
      "Downloading artifacts: 100%|██████████| 5/5 [00:00<00:00, 1625.07it/s]\n"
     ]
    }
   ],
   "source": [
    "from train_models import load_model_by_name\n",
    "\n",
    "def load_all_models(experiments:str|list, model_names:list=CONFIG['BASE_MODELS']) -> dict:\n",
    "    models = {}\n",
    "\n",
    "    if(isinstance(experiments, str)):\n",
    "        experiments = [experiments]*len(model_names)\n",
    "    else:\n",
    "        if(len(experiments) != len(model_names)):\n",
    "            raise ValueError('Variável \"experiments\" deve ser uma lista com tamanho igual à \"models\", ou ser apenas uma string')\n",
    "\n",
    "    for i in range(len(model_names)):\n",
    "        trained_model, _ = load_model_by_name(experiments[i], model_names[i])\n",
    "        models[model_names[i]] = trained_model\n",
    "\n",
    "    return models"
   ]
  },
  {
   "cell_type": "code",
   "execution_count": 6,
   "id": "363dd921",
   "metadata": {},
   "outputs": [
    {
     "name": "stdout",
     "output_type": "stream",
     "text": [
      "937a626718cd4a9f80529c1aa5a49a11\n"
     ]
    },
    {
     "name": "stderr",
     "output_type": "stream",
     "text": [
      "Downloading artifacts:   0%|          | 0/1 [00:00<?, ?it/s]"
     ]
    },
    {
     "name": "stderr",
     "output_type": "stream",
     "text": [
      "Downloading artifacts:   0%|          | 0/1 [00:00<?, ?it/s]\n",
      "Downloading artifacts: 100%|██████████| 5/5 [00:00<00:00, 2473.64it/s] \n"
     ]
    },
    {
     "name": "stdout",
     "output_type": "stream",
     "text": [
      "3977094c807a417b90e947f9bb3ef35f\n"
     ]
    },
    {
     "name": "stderr",
     "output_type": "stream",
     "text": [
      "Downloading artifacts:   0%|          | 0/1 [00:00<?, ?it/s]\n",
      "Downloading artifacts: 100%|██████████| 5/5 [00:00<00:00, 2288.47it/s] \n"
     ]
    },
    {
     "name": "stdout",
     "output_type": "stream",
     "text": [
      "81fbbd13b2304d2f87a9ce4813ff0e9f\n"
     ]
    },
    {
     "name": "stderr",
     "output_type": "stream",
     "text": [
      "Downloading artifacts:   0%|          | 0/1 [00:00<?, ?it/s]\n",
      "Downloading artifacts: 100%|██████████| 5/5 [00:00<00:00, 2520.01it/s] \n"
     ]
    },
    {
     "name": "stdout",
     "output_type": "stream",
     "text": [
      "330bc02845f148788f1447fc74f84843\n"
     ]
    },
    {
     "name": "stderr",
     "output_type": "stream",
     "text": [
      "Downloading artifacts:   0%|          | 0/1 [00:00<?, ?it/s]\n",
      "Downloading artifacts: 100%|██████████| 5/5 [00:00<00:00, 3131.48it/s] \n"
     ]
    },
    {
     "name": "stdout",
     "output_type": "stream",
     "text": [
      "081ad4a8935649918e70027ba965da1d\n"
     ]
    },
    {
     "name": "stderr",
     "output_type": "stream",
     "text": [
      "Downloading artifacts:   0%|          | 0/1 [00:00<?, ?it/s]\n",
      "Downloading artifacts: 100%|██████████| 5/5 [00:00<00:00, 3218.96it/s] \n"
     ]
    },
    {
     "name": "stdout",
     "output_type": "stream",
     "text": [
      "5b66802190ec435196842f88905f9ee7\n"
     ]
    },
    {
     "name": "stderr",
     "output_type": "stream",
     "text": [
      "Downloading artifacts:   0%|          | 0/1 [00:00<?, ?it/s]\n",
      "Downloading artifacts: 100%|██████████| 5/5 [00:00<00:00, 2866.53it/s] \n"
     ]
    },
    {
     "name": "stdout",
     "output_type": "stream",
     "text": [
      "4957b9df8f40411d8bfca7a2e72e056c\n"
     ]
    },
    {
     "name": "stderr",
     "output_type": "stream",
     "text": [
      "Downloading artifacts:   0%|          | 0/1 [00:00<?, ?it/s]\n",
      "Downloading artifacts: 100%|██████████| 5/5 [00:00<00:00, 1585.99it/s]\n"
     ]
    },
    {
     "name": "stdout",
     "output_type": "stream",
     "text": [
      "77203a99e6484c18a331f89c8dde817b\n"
     ]
    },
    {
     "name": "stderr",
     "output_type": "stream",
     "text": [
      "Downloading artifacts:   0%|          | 0/1 [00:00<?, ?it/s]\n",
      "Downloading artifacts: 100%|██████████| 5/5 [00:00<00:00, 2175.02it/s] \n"
     ]
    },
    {
     "name": "stdout",
     "output_type": "stream",
     "text": [
      "4e2c1460d7134cc090f47db3917c9b38\n"
     ]
    },
    {
     "name": "stderr",
     "output_type": "stream",
     "text": [
      "Downloading artifacts:   0%|          | 0/1 [00:00<?, ?it/s]\n",
      "Downloading artifacts: 100%|██████████| 5/5 [00:00<00:00, 2477.73it/s] \n"
     ]
    },
    {
     "name": "stdout",
     "output_type": "stream",
     "text": [
      "4581e75635e5404ca6cc79d0b1c8b10c\n"
     ]
    },
    {
     "name": "stderr",
     "output_type": "stream",
     "text": [
      "Downloading artifacts:   0%|          | 0/1 [00:00<?, ?it/s]\n",
      "Downloading artifacts: 100%|██████████| 5/5 [00:00<00:00, 2582.06it/s] \n"
     ]
    },
    {
     "name": "stdout",
     "output_type": "stream",
     "text": [
      "8634629504dd41bf9cdf22cfb76d9df7\n"
     ]
    },
    {
     "name": "stderr",
     "output_type": "stream",
     "text": [
      "Downloading artifacts:   0%|          | 0/1 [00:00<?, ?it/s]\n",
      "Downloading artifacts: 100%|██████████| 5/5 [00:00<00:00, 2067.38it/s] \n"
     ]
    },
    {
     "name": "stdout",
     "output_type": "stream",
     "text": [
      "f3150119303b475181e4f9964d95e692\n"
     ]
    },
    {
     "name": "stderr",
     "output_type": "stream",
     "text": [
      "Downloading artifacts:   0%|          | 0/1 [00:00<?, ?it/s]\n",
      "Downloading artifacts: 100%|██████████| 5/5 [00:00<00:00, 2480.37it/s] \n"
     ]
    }
   ],
   "source": [
    "models = load_all_models(experiment_name, CONFIG['BASE_MODELS'])"
   ]
  },
  {
   "cell_type": "code",
   "execution_count": 107,
   "id": "8771720f",
   "metadata": {},
   "outputs": [],
   "source": [
    "class Pool():\n",
    "    def __init__(self, models):\n",
    "        self.predictors = models\n",
    "        #self.keys = list(models.keys())\n",
    "        #self.predict_cache = None\n",
    "        #self.predict_proba_cache = None\n",
    "        self._is_fitted = False\n",
    "        self.tree_based = ['Decision_Tree','Random_Forest','Gradient_Boosting','AdaBoost','XGBoost']\n",
    "    \n",
    "    def __len__(self):\n",
    "        return len(self.predictors)\n",
    "\n",
    "    def fit(self, X, X_norm, y):\n",
    "        for name, model in self.predictors.items():\n",
    "            if(name in self.tree_based):\n",
    "                model.fit(X,y)\n",
    "            else:\n",
    "                model.fit(X_norm,y)\n",
    "            print(f'{name} fitted.')\n",
    "        self._is_fitted = True\n",
    "\n",
    "        return self\n",
    "\n",
    "    def predict(self, X, X_norm):\n",
    "        pred = pd.DataFrame(columns=list(self.predictors.keys()))\n",
    "        for name, model in self.predictors.items():\n",
    "            if(name in self.tree_based):\n",
    "                pred[name] = model.predict(X)\n",
    "            else:\n",
    "                pred[name] = model.predict(X_norm)\n",
    "        return pred\n",
    "\n",
    "    def predict_proba(self, X, X_norm):\n",
    "        pred = {}\n",
    "        for name, model in self.predictors.items():\n",
    "            if(name in self.tree_based):\n",
    "                pred[name] = model.predict_proba(X)\n",
    "            else:\n",
    "                pred[name] = model.predict_proba(X_norm)\n",
    "        return pred\n",
    "    \n",
    "    def drop(self, *args):\n",
    "        new_models = {}\n",
    "        for name, model in self.predictors.items():\n",
    "            if(name not in args):\n",
    "                new_models[name] = model\n",
    "        newPool = Pool(new_models)\n",
    "        newPool._is_fitted = self._is_fitted\n",
    "        return newPool\n",
    "\n",
    "#class PoolRejector():\n",
    "#    def __init__(self):\n",
    "#        pass"
   ]
  },
  {
   "cell_type": "code",
   "execution_count": 108,
   "id": "a86d17e0",
   "metadata": {},
   "outputs": [
    {
     "name": "stdout",
     "output_type": "stream",
     "text": [
      "Decision_Tree fitted.\n",
      "SGD fitted.\n",
      "Logistic_Regression fitted.\n",
      "KNN fitted.\n"
     ]
    },
    {
     "name": "stderr",
     "output_type": "stream",
     "text": [
      "/home/pbsl/pog/IC - Reject Option/.venv/lib/python3.10/site-packages/sklearn/svm/_base.py:305: ConvergenceWarning: Solver terminated early (max_iter=1023).  Consider pre-processing your data with StandardScaler or MinMaxScaler.\n",
      "  warnings.warn(\n"
     ]
    },
    {
     "name": "stdout",
     "output_type": "stream",
     "text": [
      "SVM_Linear fitted.\n"
     ]
    },
    {
     "name": "stderr",
     "output_type": "stream",
     "text": [
      "/home/pbsl/pog/IC - Reject Option/.venv/lib/python3.10/site-packages/sklearn/svm/_base.py:305: ConvergenceWarning: Solver terminated early (max_iter=2627).  Consider pre-processing your data with StandardScaler or MinMaxScaler.\n",
      "  warnings.warn(\n"
     ]
    },
    {
     "name": "stdout",
     "output_type": "stream",
     "text": [
      "SVM_Polynomial fitted.\n"
     ]
    },
    {
     "name": "stderr",
     "output_type": "stream",
     "text": [
      "/home/pbsl/pog/IC - Reject Option/.venv/lib/python3.10/site-packages/sklearn/svm/_base.py:305: ConvergenceWarning: Solver terminated early (max_iter=1108).  Consider pre-processing your data with StandardScaler or MinMaxScaler.\n",
      "  warnings.warn(\n"
     ]
    },
    {
     "name": "stdout",
     "output_type": "stream",
     "text": [
      "SVM_RBF fitted.\n",
      "MLP fitted.\n",
      "Random_Forest fitted.\n",
      "Gradient_Boosting fitted.\n",
      "AdaBoost fitted.\n",
      "XGBoost fitted.\n"
     ]
    }
   ],
   "source": [
    "modelPool = Pool(models)\n",
    "modelPool = modelPool.fit(X_train, X_train_norm, y_train)"
   ]
  },
  {
   "cell_type": "code",
   "execution_count": 22,
   "id": "46e1c852",
   "metadata": {},
   "outputs": [
    {
     "data": {
      "text/html": [
       "<div>\n",
       "<style scoped>\n",
       "    .dataframe tbody tr th:only-of-type {\n",
       "        vertical-align: middle;\n",
       "    }\n",
       "\n",
       "    .dataframe tbody tr th {\n",
       "        vertical-align: top;\n",
       "    }\n",
       "\n",
       "    .dataframe thead th {\n",
       "        text-align: right;\n",
       "    }\n",
       "</style>\n",
       "<table border=\"1\" class=\"dataframe\">\n",
       "  <thead>\n",
       "    <tr style=\"text-align: right;\">\n",
       "      <th></th>\n",
       "      <th>Decision_Tree</th>\n",
       "      <th>SGD</th>\n",
       "      <th>Logistic_Regression</th>\n",
       "      <th>KNN</th>\n",
       "      <th>SVM_Linear</th>\n",
       "      <th>SVM_Polynomial</th>\n",
       "      <th>SVM_RBF</th>\n",
       "      <th>MLP</th>\n",
       "      <th>Random_Forest</th>\n",
       "      <th>Gradient_Boosting</th>\n",
       "      <th>AdaBoost</th>\n",
       "      <th>XGBoost</th>\n",
       "    </tr>\n",
       "  </thead>\n",
       "  <tbody>\n",
       "    <tr>\n",
       "      <th>0</th>\n",
       "      <td>1</td>\n",
       "      <td>1</td>\n",
       "      <td>1</td>\n",
       "      <td>1</td>\n",
       "      <td>1</td>\n",
       "      <td>1</td>\n",
       "      <td>1</td>\n",
       "      <td>1</td>\n",
       "      <td>1</td>\n",
       "      <td>1</td>\n",
       "      <td>1</td>\n",
       "      <td>1</td>\n",
       "    </tr>\n",
       "    <tr>\n",
       "      <th>1</th>\n",
       "      <td>1</td>\n",
       "      <td>1</td>\n",
       "      <td>1</td>\n",
       "      <td>1</td>\n",
       "      <td>1</td>\n",
       "      <td>1</td>\n",
       "      <td>1</td>\n",
       "      <td>1</td>\n",
       "      <td>1</td>\n",
       "      <td>1</td>\n",
       "      <td>1</td>\n",
       "      <td>1</td>\n",
       "    </tr>\n",
       "    <tr>\n",
       "      <th>2</th>\n",
       "      <td>1</td>\n",
       "      <td>1</td>\n",
       "      <td>1</td>\n",
       "      <td>1</td>\n",
       "      <td>1</td>\n",
       "      <td>1</td>\n",
       "      <td>1</td>\n",
       "      <td>1</td>\n",
       "      <td>1</td>\n",
       "      <td>1</td>\n",
       "      <td>1</td>\n",
       "      <td>1</td>\n",
       "    </tr>\n",
       "    <tr>\n",
       "      <th>3</th>\n",
       "      <td>1</td>\n",
       "      <td>1</td>\n",
       "      <td>1</td>\n",
       "      <td>1</td>\n",
       "      <td>1</td>\n",
       "      <td>1</td>\n",
       "      <td>1</td>\n",
       "      <td>1</td>\n",
       "      <td>1</td>\n",
       "      <td>1</td>\n",
       "      <td>1</td>\n",
       "      <td>1</td>\n",
       "    </tr>\n",
       "    <tr>\n",
       "      <th>4</th>\n",
       "      <td>0</td>\n",
       "      <td>0</td>\n",
       "      <td>0</td>\n",
       "      <td>0</td>\n",
       "      <td>0</td>\n",
       "      <td>0</td>\n",
       "      <td>0</td>\n",
       "      <td>0</td>\n",
       "      <td>0</td>\n",
       "      <td>0</td>\n",
       "      <td>0</td>\n",
       "      <td>0</td>\n",
       "    </tr>\n",
       "    <tr>\n",
       "      <th>...</th>\n",
       "      <td>...</td>\n",
       "      <td>...</td>\n",
       "      <td>...</td>\n",
       "      <td>...</td>\n",
       "      <td>...</td>\n",
       "      <td>...</td>\n",
       "      <td>...</td>\n",
       "      <td>...</td>\n",
       "      <td>...</td>\n",
       "      <td>...</td>\n",
       "      <td>...</td>\n",
       "      <td>...</td>\n",
       "    </tr>\n",
       "    <tr>\n",
       "      <th>2995</th>\n",
       "      <td>1</td>\n",
       "      <td>0</td>\n",
       "      <td>0</td>\n",
       "      <td>1</td>\n",
       "      <td>1</td>\n",
       "      <td>1</td>\n",
       "      <td>1</td>\n",
       "      <td>1</td>\n",
       "      <td>1</td>\n",
       "      <td>1</td>\n",
       "      <td>1</td>\n",
       "      <td>1</td>\n",
       "    </tr>\n",
       "    <tr>\n",
       "      <th>2996</th>\n",
       "      <td>1</td>\n",
       "      <td>0</td>\n",
       "      <td>0</td>\n",
       "      <td>1</td>\n",
       "      <td>1</td>\n",
       "      <td>1</td>\n",
       "      <td>1</td>\n",
       "      <td>1</td>\n",
       "      <td>1</td>\n",
       "      <td>1</td>\n",
       "      <td>1</td>\n",
       "      <td>1</td>\n",
       "    </tr>\n",
       "    <tr>\n",
       "      <th>2997</th>\n",
       "      <td>0</td>\n",
       "      <td>0</td>\n",
       "      <td>0</td>\n",
       "      <td>0</td>\n",
       "      <td>0</td>\n",
       "      <td>0</td>\n",
       "      <td>0</td>\n",
       "      <td>0</td>\n",
       "      <td>0</td>\n",
       "      <td>0</td>\n",
       "      <td>0</td>\n",
       "      <td>0</td>\n",
       "    </tr>\n",
       "    <tr>\n",
       "      <th>2998</th>\n",
       "      <td>1</td>\n",
       "      <td>1</td>\n",
       "      <td>1</td>\n",
       "      <td>1</td>\n",
       "      <td>1</td>\n",
       "      <td>1</td>\n",
       "      <td>1</td>\n",
       "      <td>1</td>\n",
       "      <td>1</td>\n",
       "      <td>1</td>\n",
       "      <td>1</td>\n",
       "      <td>1</td>\n",
       "    </tr>\n",
       "    <tr>\n",
       "      <th>2999</th>\n",
       "      <td>0</td>\n",
       "      <td>0</td>\n",
       "      <td>0</td>\n",
       "      <td>0</td>\n",
       "      <td>0</td>\n",
       "      <td>0</td>\n",
       "      <td>0</td>\n",
       "      <td>0</td>\n",
       "      <td>0</td>\n",
       "      <td>0</td>\n",
       "      <td>0</td>\n",
       "      <td>0</td>\n",
       "    </tr>\n",
       "  </tbody>\n",
       "</table>\n",
       "<p>3000 rows × 12 columns</p>\n",
       "</div>"
      ],
      "text/plain": [
       "      Decision_Tree  SGD  Logistic_Regression  KNN  SVM_Linear  \\\n",
       "0                 1    1                    1    1           1   \n",
       "1                 1    1                    1    1           1   \n",
       "2                 1    1                    1    1           1   \n",
       "3                 1    1                    1    1           1   \n",
       "4                 0    0                    0    0           0   \n",
       "...             ...  ...                  ...  ...         ...   \n",
       "2995              1    0                    0    1           1   \n",
       "2996              1    0                    0    1           1   \n",
       "2997              0    0                    0    0           0   \n",
       "2998              1    1                    1    1           1   \n",
       "2999              0    0                    0    0           0   \n",
       "\n",
       "      SVM_Polynomial  SVM_RBF  MLP  Random_Forest  Gradient_Boosting  \\\n",
       "0                  1        1    1              1                  1   \n",
       "1                  1        1    1              1                  1   \n",
       "2                  1        1    1              1                  1   \n",
       "3                  1        1    1              1                  1   \n",
       "4                  0        0    0              0                  0   \n",
       "...              ...      ...  ...            ...                ...   \n",
       "2995               1        1    1              1                  1   \n",
       "2996               1        1    1              1                  1   \n",
       "2997               0        0    0              0                  0   \n",
       "2998               1        1    1              1                  1   \n",
       "2999               0        0    0              0                  0   \n",
       "\n",
       "      AdaBoost  XGBoost  \n",
       "0            1        1  \n",
       "1            1        1  \n",
       "2            1        1  \n",
       "3            1        1  \n",
       "4            0        0  \n",
       "...        ...      ...  \n",
       "2995         1        1  \n",
       "2996         1        1  \n",
       "2997         0        0  \n",
       "2998         1        1  \n",
       "2999         0        0  \n",
       "\n",
       "[3000 rows x 12 columns]"
      ]
     },
     "execution_count": 22,
     "metadata": {},
     "output_type": "execute_result"
    }
   ],
   "source": [
    "modelPool.predict(X_test, X_test_norm)"
   ]
  },
  {
   "cell_type": "code",
   "execution_count": 26,
   "id": "5af8f451",
   "metadata": {},
   "outputs": [
    {
     "data": {
      "text/plain": [
       "{'Decision_Tree': array([[0.        , 1.        ],\n",
       "        [0.07142857, 0.92857143],\n",
       "        [0.        , 1.        ],\n",
       "        ...,\n",
       "        [1.        , 0.        ],\n",
       "        [0.        , 1.        ],\n",
       "        [1.        , 0.        ]], shape=(3000, 2)),\n",
       " 'SGD': array([[0.35777328, 0.64222672],\n",
       "        [0.14683902, 0.85316098],\n",
       "        [0.11679206, 0.88320794],\n",
       "        ...,\n",
       "        [0.93240344, 0.06759656],\n",
       "        [0.        , 1.        ],\n",
       "        [1.        , 0.        ]], shape=(3000, 2)),\n",
       " 'Logistic_Regression': array([[0.26025194, 0.73974806],\n",
       "        [0.0918628 , 0.9081372 ],\n",
       "        [0.07822786, 0.92177214],\n",
       "        ...,\n",
       "        [0.88492997, 0.11507003],\n",
       "        [0.02778958, 0.97221042],\n",
       "        [0.93933575, 0.06066425]], shape=(3000, 2)),\n",
       " 'KNN': array([[0.04761905, 0.95238095],\n",
       "        [0.0952381 , 0.9047619 ],\n",
       "        [0.04761905, 0.95238095],\n",
       "        ...,\n",
       "        [1.        , 0.        ],\n",
       "        [0.        , 1.        ],\n",
       "        [1.        , 0.        ]], shape=(3000, 2)),\n",
       " 'SVM_Linear': array([[0.12758726, 0.87241274],\n",
       "        [0.03454671, 0.96545329],\n",
       "        [0.0286331 , 0.9713669 ],\n",
       "        ...,\n",
       "        [0.70707733, 0.29292267],\n",
       "        [0.0112566 , 0.9887434 ],\n",
       "        [0.77933069, 0.22066931]], shape=(3000, 2)),\n",
       " 'SVM_Polynomial': array([[5.09102550e-07, 9.99999491e-01],\n",
       "        [1.22739850e-01, 8.77260150e-01],\n",
       "        [4.61292011e-02, 9.53870799e-01],\n",
       "        ...,\n",
       "        [9.89683537e-01, 1.03164634e-02],\n",
       "        [6.07603455e-09, 9.99999994e-01],\n",
       "        [9.99999900e-01, 1.00000010e-07]], shape=(3000, 2)),\n",
       " 'SVM_RBF': array([[1.10821143e-07, 9.99999889e-01],\n",
       "        [5.06882105e-02, 9.49311790e-01],\n",
       "        [3.25838664e-02, 9.67416134e-01],\n",
       "        ...,\n",
       "        [9.75319813e-01, 2.46801865e-02],\n",
       "        [5.08568311e-03, 9.94914317e-01],\n",
       "        [9.99988087e-01, 1.19129035e-05]], shape=(3000, 2)),\n",
       " 'MLP': array([[4.53181593e-03, 9.95468184e-01],\n",
       "        [1.16143139e-01, 8.83856861e-01],\n",
       "        [4.89266186e-02, 9.51073381e-01],\n",
       "        ...,\n",
       "        [9.95011032e-01, 4.98896758e-03],\n",
       "        [6.51464303e-04, 9.99348536e-01],\n",
       "        [9.99989495e-01, 1.05045266e-05]], shape=(3000, 2)),\n",
       " 'Random_Forest': array([[0.01359354, 0.98640646],\n",
       "        [0.07259019, 0.92740981],\n",
       "        [0.04509651, 0.95490349],\n",
       "        ...,\n",
       "        [0.97988349, 0.02011651],\n",
       "        [0.0021119 , 0.9978881 ],\n",
       "        [0.96306334, 0.03693666]], shape=(3000, 2)),\n",
       " 'Gradient_Boosting': array([[0.18482675, 0.81517325],\n",
       "        [0.21707923, 0.78292077],\n",
       "        [0.20473627, 0.79526373],\n",
       "        ...,\n",
       "        [0.80546445, 0.19453555],\n",
       "        [0.1871809 , 0.8128191 ],\n",
       "        [0.81013008, 0.18986992]], shape=(3000, 2)),\n",
       " 'AdaBoost': array([[0.33688414, 0.66311586],\n",
       "        [0.44970362, 0.55029638],\n",
       "        [0.44970362, 0.55029638],\n",
       "        ...,\n",
       "        [0.59218385, 0.40781615],\n",
       "        [0.38473448, 0.61526552],\n",
       "        [0.71805442, 0.28194558]], shape=(3000, 2)),\n",
       " 'XGBoost': array([[0.00761563, 0.9923844 ],\n",
       "        [0.06780803, 0.93219197],\n",
       "        [0.06780803, 0.93219197],\n",
       "        ...,\n",
       "        [0.96561944, 0.03438057],\n",
       "        [0.00928134, 0.99071866],\n",
       "        [0.9925963 , 0.0074037 ]], shape=(3000, 2), dtype=float32)}"
      ]
     },
     "execution_count": 26,
     "metadata": {},
     "output_type": "execute_result"
    }
   ],
   "source": [
    "teste = modelPool.predict_proba(X_test, X_test_norm)\n",
    "teste"
   ]
  },
  {
   "cell_type": "code",
   "execution_count": 30,
   "id": "ebc26193",
   "metadata": {},
   "outputs": [
    {
     "data": {
      "text/plain": [
       "array([0.00761563, 0.06780803, 0.06780803, ..., 0.03438056, 0.00928134,\n",
       "       0.00740367], shape=(3000,), dtype=float32)"
      ]
     },
     "execution_count": 30,
     "metadata": {},
     "output_type": "execute_result"
    }
   ],
   "source": [
    "1 - np.max(teste['XGBoost'], axis=1)"
   ]
  },
  {
   "cell_type": "code",
   "execution_count": 35,
   "id": "a56399dd",
   "metadata": {},
   "outputs": [
    {
     "data": {
      "text/plain": [
       "np.float64(2.5)"
      ]
     },
     "execution_count": 35,
     "metadata": {},
     "output_type": "execute_result"
    }
   ],
   "source": [
    "np.mean((1,2,3,4))"
   ]
  },
  {
   "cell_type": "code",
   "execution_count": 125,
   "id": "17b78d3e",
   "metadata": {},
   "outputs": [],
   "source": [
    "from math import floor\n",
    "from scipy import stats as st\n",
    "\n",
    "class Rejector():\n",
    "    def __init__(self, model_pool:Pool):\n",
    "        self.setModelPool(model_pool)\n",
    "        self.cache_input = None\n",
    "        self.cache_output_preds = None\n",
    "        self.cache_output_proba = None\n",
    "\n",
    "    def setModelPool(self, model_pool):\n",
    "        if(model_pool._is_fitted):\n",
    "            self.predictors = model_pool\n",
    "        else:\n",
    "            print('Warning: Pool of models not yet fitted. Model pool not saved.')\n",
    "\n",
    "    def predictWithReject(self, X, X_norm, reject_rate, reject_method:str='avg'):\n",
    "        # reject_method deve ser igual a 'avg', 'median', 'min' ou 'max'\n",
    "        if(reject_method not in ['avg', 'mean', 'median', 'min','max']):\n",
    "            raise ValueError(\"reject_method deve ser igual a 'avg', 'mean, 'median', 'min' ou 'max'\")\n",
    "        \n",
    "        if(self.predictors._is_fitted):\n",
    "            if((X == self.cache_input).all() and (self.cache_output_proba.shape[1]==len(self.predictors))):\n",
    "                predictions = self.cache_output_preds\n",
    "                poolProb = self.cache_output_proba\n",
    "            else:\n",
    "                poolProb = pd.DataFrame()\n",
    "                poolPreds = pd.DataFrame()\n",
    "                results = self.predictors.predict_proba(X, X_norm)\n",
    "\n",
    "                for name, probas in results.items():\n",
    "                    poolPreds[name] = np.argmax(probas, axis=1)\n",
    "                    poolProb[name] = 1 - np.max(probas, axis=1)\n",
    "\n",
    "                predictions = pd.DataFrame(np.array(st.mode(poolPreds.values, axis=1))[0])\n",
    "\n",
    "                self.cache_input = X\n",
    "                self.cache_output_preds = predictions\n",
    "                self.cache_output_proba = poolProb\n",
    "\n",
    "            if(reject_method=='max'):\n",
    "                predictions['score'] = poolProb.apply(lambda x: max(x), axis=1)\n",
    "            elif(reject_method=='median'):\n",
    "                predictions['score'] = poolProb.apply(lambda x: np.median(x), axis=1)\n",
    "            elif(reject_method=='min'):\n",
    "                predictions['score'] = poolProb.apply(lambda x: min(x), axis=1)\n",
    "            else: #avg or mean\n",
    "                predictions['score'] = poolProb.apply(lambda x: np.mean(x), axis=1)\n",
    "\n",
    "            if(reject_rate > 1):\n",
    "                reject_rate = reject_rate/100\n",
    "\n",
    "            n_reject = floor(poolProb.shape[0] * reject_rate)\n",
    "            if(n_reject==0):\n",
    "                print('Warning: Number of rejections equals 0. Increase the rejection rate.')\n",
    "            elif(n_reject==poolProb.shape[0]):\n",
    "                print('Warning: All examples will be rejected. Decrease the rejection rate.')\n",
    "\n",
    "            predictions = predictions.sort_values(by='score', ascending=False)\n",
    "            predictions.iloc[:n_reject, :] = np.nan # REJECTED\n",
    "            predictions = predictions.drop(columns=['score']).sort_index()\n",
    "\n",
    "            return predictions[0]"
   ]
  },
  {
   "cell_type": "code",
   "execution_count": 47,
   "id": "ea618a46",
   "metadata": {},
   "outputs": [],
   "source": [
    "y_pred = modelPool.predict_proba(X_train, X_train_norm)\n",
    "\n",
    "for name, probas in y_pred.items():\n",
    "    pass\n",
    "#y_pred = "
   ]
  },
  {
   "cell_type": "code",
   "execution_count": 53,
   "id": "57a93a0e",
   "metadata": {},
   "outputs": [
    {
     "data": {
      "text/plain": [
       "np.int64(0)"
      ]
     },
     "execution_count": 53,
     "metadata": {},
     "output_type": "execute_result"
    }
   ],
   "source": [
    "np.argmax(y_pred['Decision_Tree'][1])"
   ]
  },
  {
   "cell_type": "code",
   "execution_count": 61,
   "id": "be0fb8b7",
   "metadata": {},
   "outputs": [
    {
     "data": {
      "text/plain": [
       "array([1, 1, 1, ..., 0, 1, 0], shape=(3000,))"
      ]
     },
     "execution_count": 61,
     "metadata": {},
     "output_type": "execute_result"
    }
   ],
   "source": [
    "np.array(st.mode(y_pred, axis=1))[0]"
   ]
  },
  {
   "cell_type": "code",
   "execution_count": 118,
   "id": "e959fa16",
   "metadata": {},
   "outputs": [
    {
     "data": {
      "text/plain": [
       "0       1.0\n",
       "1       1.0\n",
       "2       1.0\n",
       "3       NaN\n",
       "4       NaN\n",
       "       ... \n",
       "2995    1.0\n",
       "2996    1.0\n",
       "2997    0.0\n",
       "2998    NaN\n",
       "2999    0.0\n",
       "Name: 0, Length: 3000, dtype: float64"
      ]
     },
     "execution_count": 118,
     "metadata": {},
     "output_type": "execute_result"
    }
   ],
   "source": [
    "pred_reject = Rejector(modelPool)\n",
    "y_pred = pred_reject.predictWithReject(X_test, X_test_norm, 0.2, 'avg')\n",
    "y_pred"
   ]
  },
  {
   "cell_type": "code",
   "execution_count": 124,
   "id": "aaf48944",
   "metadata": {},
   "outputs": [
    {
     "data": {
      "text/html": [
       "<div>\n",
       "<style scoped>\n",
       "    .dataframe tbody tr th:only-of-type {\n",
       "        vertical-align: middle;\n",
       "    }\n",
       "\n",
       "    .dataframe tbody tr th {\n",
       "        vertical-align: top;\n",
       "    }\n",
       "\n",
       "    .dataframe thead th {\n",
       "        text-align: right;\n",
       "    }\n",
       "</style>\n",
       "<table border=\"1\" class=\"dataframe\">\n",
       "  <thead>\n",
       "    <tr style=\"text-align: right;\">\n",
       "      <th></th>\n",
       "      <th>0</th>\n",
       "      <th>score</th>\n",
       "    </tr>\n",
       "  </thead>\n",
       "  <tbody>\n",
       "    <tr>\n",
       "      <th>1528</th>\n",
       "      <td>1</td>\n",
       "      <td>0.424002</td>\n",
       "    </tr>\n",
       "    <tr>\n",
       "      <th>827</th>\n",
       "      <td>0</td>\n",
       "      <td>0.421382</td>\n",
       "    </tr>\n",
       "    <tr>\n",
       "      <th>322</th>\n",
       "      <td>0</td>\n",
       "      <td>0.420449</td>\n",
       "    </tr>\n",
       "    <tr>\n",
       "      <th>73</th>\n",
       "      <td>0</td>\n",
       "      <td>0.419025</td>\n",
       "    </tr>\n",
       "    <tr>\n",
       "      <th>598</th>\n",
       "      <td>1</td>\n",
       "      <td>0.415453</td>\n",
       "    </tr>\n",
       "    <tr>\n",
       "      <th>...</th>\n",
       "      <td>...</td>\n",
       "      <td>...</td>\n",
       "    </tr>\n",
       "    <tr>\n",
       "      <th>363</th>\n",
       "      <td>1</td>\n",
       "      <td>0.033875</td>\n",
       "    </tr>\n",
       "    <tr>\n",
       "      <th>1406</th>\n",
       "      <td>1</td>\n",
       "      <td>0.033746</td>\n",
       "    </tr>\n",
       "    <tr>\n",
       "      <th>2440</th>\n",
       "      <td>1</td>\n",
       "      <td>0.033199</td>\n",
       "    </tr>\n",
       "    <tr>\n",
       "      <th>2093</th>\n",
       "      <td>1</td>\n",
       "      <td>0.033095</td>\n",
       "    </tr>\n",
       "    <tr>\n",
       "      <th>2227</th>\n",
       "      <td>1</td>\n",
       "      <td>0.033047</td>\n",
       "    </tr>\n",
       "  </tbody>\n",
       "</table>\n",
       "<p>3000 rows × 2 columns</p>\n",
       "</div>"
      ],
      "text/plain": [
       "      0     score\n",
       "1528  1  0.424002\n",
       "827   0  0.421382\n",
       "322   0  0.420449\n",
       "73    0  0.419025\n",
       "598   1  0.415453\n",
       "...  ..       ...\n",
       "363   1  0.033875\n",
       "1406  1  0.033746\n",
       "2440  1  0.033199\n",
       "2093  1  0.033095\n",
       "2227  1  0.033047\n",
       "\n",
       "[3000 rows x 2 columns]"
      ]
     },
     "execution_count": 124,
     "metadata": {},
     "output_type": "execute_result"
    }
   ],
   "source": [
    "predictions = pred_reject.cache_output_preds\n",
    "poolProb = pred_reject.cache_output_proba\n",
    "\n",
    "predictions['score'] = poolProb.apply(lambda x: np.mean(x), axis=1)\n",
    "\n",
    "n_reject = floor(poolProb.shape[0] * 0.2)\n",
    "if(n_reject==0):\n",
    "    print('Warning: Number of rejections equals 0. Increase the rejection rate.')\n",
    "elif(n_reject==poolProb.shape[0]):\n",
    "    print('Warning: All examples will be rejected. Decrease the rejection rate.')\n",
    "\n",
    "predictions = predictions.sort_values(by='score', ascending=False)\n",
    "#predictions.iloc[:n_reject, :] = np.nan # REJECTED\n",
    "#predictions = predictions.drop(columns=['score']).sort_index()\n",
    "predictions"
   ]
  },
  {
   "cell_type": "code",
   "execution_count": 83,
   "id": "001cebe9",
   "metadata": {},
   "outputs": [
    {
     "data": {
      "text/plain": [
       "array([1, 1, 1, ..., 1, 0, 0], shape=(2400,))"
      ]
     },
     "execution_count": 83,
     "metadata": {},
     "output_type": "execute_result"
    }
   ],
   "source": [
    "teste = y_pred.dropna().index\n",
    "\n",
    "y_test[teste]"
   ]
  },
  {
   "cell_type": "code",
   "execution_count": 72,
   "id": "fc010ef5",
   "metadata": {},
   "outputs": [
    {
     "data": {
      "text/plain": [
       "[5, 10, 15, 20, 25, 30, 35, 40, 45, 50, 55, 60, 65, 70, 75, 80, 85, 90, 95]"
      ]
     },
     "execution_count": 72,
     "metadata": {},
     "output_type": "execute_result"
    }
   ],
   "source": [
    "list(range(5,96,5))"
   ]
  },
  {
   "cell_type": "code",
   "execution_count": 134,
   "id": "a8047ec6",
   "metadata": {},
   "outputs": [],
   "source": [
    "pred_reject = Rejector(modelPool)\n",
    "results_log = pd.DataFrame(columns=['Method','Rejection Rate','Accuracy','Precision','Recall','F1-Score'])\n",
    "\n",
    "for method in ['avg','median','min','max']:\n",
    "    #score = {'avg':[],'median':[],'min':[],'max':[]}\n",
    "    for reject_rate in range(5,96,5):\n",
    "        y_pred = pred_reject.predictWithReject(X_test, X_test_norm, reject_rate, method)\n",
    "        idx = y_pred.dropna().index\n",
    "        acc = accuracy_score(y_test[idx], y_pred[idx])\n",
    "        pre = precision_score(y_test[idx], y_pred[idx], zero_division=0)\n",
    "        rec = recall_score(y_test[idx], y_pred[idx], zero_division=0)\n",
    "        f1s = f1_score(y_test[idx], y_pred[idx], zero_division=0)\n",
    "        results_log.loc[results_log.shape[0]] = [method,reject_rate*0.01,acc,pre,rec,f1s]"
   ]
  },
  {
   "cell_type": "code",
   "execution_count": 147,
   "id": "1ea49829",
   "metadata": {},
   "outputs": [
    {
     "data": {
      "image/png": "[encoded data removed]",
      "text/plain": [
       "<Figure size 640x480 with 1 Axes>"
      ]
     },
     "metadata": {},
     "output_type": "display_data"
    },
    {
     "data": {
      "image/png": "[encoded data removed]",
      "text/plain": [
       "<Figure size 640x480 with 1 Axes>"
      ]
     },
     "metadata": {},
     "output_type": "display_data"
    },
    {
     "data": {
      "image/png": "[encoded data removed]",
      "text/plain": [
       "<Figure size 640x480 with 1 Axes>"
      ]
     },
     "metadata": {},
     "output_type": "display_data"
    },
    {
     "data": {
      "image/png": "[encoded data removed]",
      "text/plain": [
       "<Figure size 640x480 with 1 Axes>"
      ]
     },
     "metadata": {},
     "output_type": "display_data"
    }
   ],
   "source": [
    "xticks = np.array(range(0,10))*0.1\n",
    "for metric in ['Accuracy','Precision','Recall','F1-Score']:\n",
    "    plt.title(f'Rejection Rate x {metric}')\n",
    "    plt.xlim([-0.01,1.01])\n",
    "    sns.lineplot(results_log, x='Rejection Rate', y=metric, hue='Method', )\n",
    "    plt.xticks(xticks)\n",
    "    plt.grid()\n",
    "    plt.tight_layout()\n",
    "    plt.show()"
   ]
  },
  {
   "cell_type": "code",
   "execution_count": 161,
   "id": "257562c2",
   "metadata": {},
   "outputs": [
    {
     "name": "stdout",
     "output_type": "stream",
     "text": [
      "Method: avg \t |  Score: 0.896\n",
      "Method: median \t |  Score: 0.897\n",
      "Method: min \t |  Score: 0.892\n",
      "Method: max \t |  Score: 0.896\n"
     ]
    },
    {
     "data": {
      "text/html": [
       "<div>\n",
       "<style scoped>\n",
       "    .dataframe tbody tr th:only-of-type {\n",
       "        vertical-align: middle;\n",
       "    }\n",
       "\n",
       "    .dataframe tbody tr th {\n",
       "        vertical-align: top;\n",
       "    }\n",
       "\n",
       "    .dataframe thead th {\n",
       "        text-align: right;\n",
       "    }\n",
       "</style>\n",
       "<table border=\"1\" class=\"dataframe\">\n",
       "  <thead>\n",
       "    <tr style=\"text-align: right;\">\n",
       "      <th></th>\n",
       "      <th>Method</th>\n",
       "      <th>Rejection Rate</th>\n",
       "      <th>Accuracy</th>\n",
       "      <th>Precision</th>\n",
       "      <th>Recall</th>\n",
       "      <th>F1-Score</th>\n",
       "      <th>AU-ARC</th>\n",
       "    </tr>\n",
       "  </thead>\n",
       "  <tbody>\n",
       "    <tr>\n",
       "      <th>0</th>\n",
       "      <td>avg</td>\n",
       "      <td>0.05</td>\n",
       "      <td>0.977895</td>\n",
       "      <td>0.981066</td>\n",
       "      <td>0.974913</td>\n",
       "      <td>0.977980</td>\n",
       "      <td>0.896015</td>\n",
       "    </tr>\n",
       "    <tr>\n",
       "      <th>1</th>\n",
       "      <td>avg</td>\n",
       "      <td>0.10</td>\n",
       "      <td>0.987407</td>\n",
       "      <td>0.988183</td>\n",
       "      <td>0.986726</td>\n",
       "      <td>0.987454</td>\n",
       "      <td>0.896015</td>\n",
       "    </tr>\n",
       "    <tr>\n",
       "      <th>2</th>\n",
       "      <td>avg</td>\n",
       "      <td>0.15</td>\n",
       "      <td>0.991373</td>\n",
       "      <td>0.992175</td>\n",
       "      <td>0.990625</td>\n",
       "      <td>0.991400</td>\n",
       "      <td>0.896015</td>\n",
       "    </tr>\n",
       "    <tr>\n",
       "      <th>3</th>\n",
       "      <td>avg</td>\n",
       "      <td>0.20</td>\n",
       "      <td>0.992083</td>\n",
       "      <td>0.991715</td>\n",
       "      <td>0.992537</td>\n",
       "      <td>0.992126</td>\n",
       "      <td>0.896015</td>\n",
       "    </tr>\n",
       "    <tr>\n",
       "      <th>4</th>\n",
       "      <td>avg</td>\n",
       "      <td>0.25</td>\n",
       "      <td>0.992889</td>\n",
       "      <td>0.993025</td>\n",
       "      <td>0.993025</td>\n",
       "      <td>0.993025</td>\n",
       "      <td>0.896015</td>\n",
       "    </tr>\n",
       "    <tr>\n",
       "      <th>...</th>\n",
       "      <td>...</td>\n",
       "      <td>...</td>\n",
       "      <td>...</td>\n",
       "      <td>...</td>\n",
       "      <td>...</td>\n",
       "      <td>...</td>\n",
       "      <td>...</td>\n",
       "    </tr>\n",
       "    <tr>\n",
       "      <th>71</th>\n",
       "      <td>max</td>\n",
       "      <td>0.75</td>\n",
       "      <td>1.000000</td>\n",
       "      <td>1.000000</td>\n",
       "      <td>1.000000</td>\n",
       "      <td>1.000000</td>\n",
       "      <td>0.895955</td>\n",
       "    </tr>\n",
       "    <tr>\n",
       "      <th>72</th>\n",
       "      <td>max</td>\n",
       "      <td>0.80</td>\n",
       "      <td>1.000000</td>\n",
       "      <td>1.000000</td>\n",
       "      <td>1.000000</td>\n",
       "      <td>1.000000</td>\n",
       "      <td>0.895955</td>\n",
       "    </tr>\n",
       "    <tr>\n",
       "      <th>73</th>\n",
       "      <td>max</td>\n",
       "      <td>0.85</td>\n",
       "      <td>1.000000</td>\n",
       "      <td>1.000000</td>\n",
       "      <td>1.000000</td>\n",
       "      <td>1.000000</td>\n",
       "      <td>0.895955</td>\n",
       "    </tr>\n",
       "    <tr>\n",
       "      <th>74</th>\n",
       "      <td>max</td>\n",
       "      <td>0.90</td>\n",
       "      <td>1.000000</td>\n",
       "      <td>1.000000</td>\n",
       "      <td>1.000000</td>\n",
       "      <td>1.000000</td>\n",
       "      <td>0.895955</td>\n",
       "    </tr>\n",
       "    <tr>\n",
       "      <th>75</th>\n",
       "      <td>max</td>\n",
       "      <td>0.95</td>\n",
       "      <td>1.000000</td>\n",
       "      <td>1.000000</td>\n",
       "      <td>1.000000</td>\n",
       "      <td>1.000000</td>\n",
       "      <td>0.895955</td>\n",
       "    </tr>\n",
       "  </tbody>\n",
       "</table>\n",
       "<p>76 rows × 7 columns</p>\n",
       "</div>"
      ],
      "text/plain": [
       "   Method  Rejection Rate  Accuracy  Precision    Recall  F1-Score    AU-ARC\n",
       "0     avg            0.05  0.977895   0.981066  0.974913  0.977980  0.896015\n",
       "1     avg            0.10  0.987407   0.988183  0.986726  0.987454  0.896015\n",
       "2     avg            0.15  0.991373   0.992175  0.990625  0.991400  0.896015\n",
       "3     avg            0.20  0.992083   0.991715  0.992537  0.992126  0.896015\n",
       "4     avg            0.25  0.992889   0.993025  0.993025  0.993025  0.896015\n",
       "..    ...             ...       ...        ...       ...       ...       ...\n",
       "71    max            0.75  1.000000   1.000000  1.000000  1.000000  0.895955\n",
       "72    max            0.80  1.000000   1.000000  1.000000  1.000000  0.895955\n",
       "73    max            0.85  1.000000   1.000000  1.000000  1.000000  0.895955\n",
       "74    max            0.90  1.000000   1.000000  1.000000  1.000000  0.895955\n",
       "75    max            0.95  1.000000   1.000000  1.000000  1.000000  0.895955\n",
       "\n",
       "[76 rows x 7 columns]"
      ]
     },
     "execution_count": 161,
     "metadata": {},
     "output_type": "execute_result"
    }
   ],
   "source": [
    "for method in ['avg','median','min','max']:\n",
    "    score = auc(x=np.array(range(5,96,5))*0.01,y=results_log.loc[results_log['Method']==method, 'Accuracy'])\n",
    "    results_log.loc[results_log['Method']==method,'AU-ARC'] = score\n",
    "    print(f'Method: {method} \\t |  Score: {score:.3f}')\n",
    "    \n",
    "results_log"
   ]
  },
  {
   "cell_type": "code",
   "execution_count": 162,
   "id": "ee945eec",
   "metadata": {},
   "outputs": [],
   "source": [
    "results_log.to_csv('results/twomoons_V0.csv')"
   ]
  }
 ],
 "metadata": {
  "kernelspec": {
   "display_name": ".venv (3.10.12)",
   "language": "python",
   "name": "python3"
  },
  "language_info": {
   "codemirror_mode": {
    "name": "ipython",
    "version": 3
   },
   "file_extension": ".py",
   "mimetype": "text/x-python",
   "name": "python",
   "nbconvert_exporter": "python",
   "pygments_lexer": "ipython3",
   "version": "3.10.12"
  }
 },
 "nbformat": 4,
 "nbformat_minor": 5
}
